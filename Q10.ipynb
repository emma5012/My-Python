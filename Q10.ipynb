{
 "cells": [
  {
   "cell_type": "code",
   "execution_count": 1,
   "metadata": {},
   "outputs": [
    {
     "name": "stdout",
     "output_type": "stream",
     "text": [
      "env: KERAS_BACKEND=tensorflow\n"
     ]
    }
   ],
   "source": [
    "%env KERAS_BACKEND=tensorflow"
   ]
  },
  {
   "cell_type": "code",
   "execution_count": 2,
   "metadata": {},
   "outputs": [],
   "source": [
    "%matplotlib inline\n",
    "\n",
    "import matplotlib.pyplot as plt\n",
    "import numpy as np\n",
    "import pandas as pd"
   ]
  },
  {
   "cell_type": "code",
   "execution_count": 3,
   "metadata": {},
   "outputs": [
    {
     "name": "stderr",
     "output_type": "stream",
     "text": [
      "Using TensorFlow backend.\n"
     ]
    }
   ],
   "source": [
    "# 讀入數據庫\n",
    "from keras.datasets import imdb"
   ]
  },
  {
   "cell_type": "code",
   "execution_count": 4,
   "metadata": {},
   "outputs": [],
   "source": [
    "(x_train, y_train), (x_test, y_test) = imdb.load_data(num_words=10000)"
   ]
  },
  {
   "cell_type": "code",
   "execution_count": 5,
   "metadata": {},
   "outputs": [
    {
     "name": "stdout",
     "output_type": "stream",
     "text": [
      "訓練總筆數: 25000\n",
      "測試總筆數: 25000\n"
     ]
    }
   ],
   "source": [
    "print('訓練總筆數:', len(x_train))\n",
    "print('測試總筆數:', len(x_test))"
   ]
  },
  {
   "cell_type": "markdown",
   "metadata": {},
   "source": [
    "#### 雖然RNN可以處理不同長度的輸入， 在寫程式時我們還是要\n",
    "(1)設輸入文字長度的上限\n",
    "(2)把每段文字都弄成一樣長, 太短的後面補上 0"
   ]
  },
  {
   "cell_type": "code",
   "execution_count": 6,
   "metadata": {},
   "outputs": [],
   "source": [
    "from keras.preprocessing import sequence"
   ]
  },
  {
   "cell_type": "code",
   "execution_count": 7,
   "metadata": {},
   "outputs": [],
   "source": [
    "x_train = sequence.pad_sequences(x_train, maxlen=150)\n",
    "x_test = sequence.pad_sequences(x_test, maxlen=150)"
   ]
  },
  {
   "cell_type": "markdown",
   "metadata": {},
   "source": [
    "### 建立神經網路模型"
   ]
  },
  {
   "cell_type": "code",
   "execution_count": 8,
   "metadata": {},
   "outputs": [],
   "source": [
    "N = 5 # 文字要壓到 N 維\n",
    "K = 6 # LSTM 有 K 個神經元"
   ]
  },
  {
   "cell_type": "code",
   "execution_count": 9,
   "metadata": {},
   "outputs": [],
   "source": [
    "from keras.models import Sequential\n",
    "from keras.layers import Dense,Embedding,Dropout\n",
    "from keras.layers import LSTM"
   ]
  },
  {
   "cell_type": "code",
   "execution_count": 10,
   "metadata": {},
   "outputs": [],
   "source": [
    "model = Sequential()\n",
    "model.add(Embedding(10000, N))\n",
    "model.add(Dropout(0.2))\n",
    "model.add(LSTM(K))\n",
    "model.add(Dense(1,activation='sigmoid'))\n",
    "model.compile(loss='binary_crossentropy',optimizer='adam',metrics=['accuracy'])"
   ]
  },
  {
   "cell_type": "code",
   "execution_count": 11,
   "metadata": {},
   "outputs": [
    {
     "name": "stdout",
     "output_type": "stream",
     "text": [
      "_________________________________________________________________\n",
      "Layer (type)                 Output Shape              Param #   \n",
      "=================================================================\n",
      "embedding_1 (Embedding)      (None, None, 5)           50000     \n",
      "_________________________________________________________________\n",
      "dropout_1 (Dropout)          (None, None, 5)           0         \n",
      "_________________________________________________________________\n",
      "lstm_1 (LSTM)                (None, 6)                 288       \n",
      "_________________________________________________________________\n",
      "dense_1 (Dense)              (None, 1)                 7         \n",
      "=================================================================\n",
      "Total params: 50,295\n",
      "Trainable params: 50,295\n",
      "Non-trainable params: 0\n",
      "_________________________________________________________________\n"
     ]
    }
   ],
   "source": [
    "model.summary()"
   ]
  },
  {
   "cell_type": "code",
   "execution_count": 12,
   "metadata": {},
   "outputs": [
    {
     "name": "stdout",
     "output_type": "stream",
     "text": [
      "Epoch 1/5\n",
      "25000/25000 [==============================] - 50s 2ms/step - loss: 0.5642 - acc: 0.7056\n",
      "Epoch 2/5\n",
      "25000/25000 [==============================] - 52s 2ms/step - loss: 0.3349 - acc: 0.8621\n",
      "Epoch 3/5\n",
      "25000/25000 [==============================] - 52s 2ms/step - loss: 0.2544 - acc: 0.9000\n",
      "Epoch 4/5\n",
      "25000/25000 [==============================] - 55s 2ms/step - loss: 0.2136 - acc: 0.9206\n",
      "Epoch 5/5\n",
      "25000/25000 [==============================] - 51s 2ms/step - loss: 0.1864 - acc: 0.9320\n"
     ]
    },
    {
     "data": {
      "text/plain": [
       "<keras.callbacks.History at 0x272416cb198>"
      ]
     },
     "execution_count": 12,
     "metadata": {},
     "output_type": "execute_result"
    }
   ],
   "source": [
    "model.fit(x_train,y_train,batch_size=32,epochs=5)"
   ]
  },
  {
   "cell_type": "code",
   "execution_count": 13,
   "metadata": {},
   "outputs": [
    {
     "name": "stdout",
     "output_type": "stream",
     "text": [
      "25000/25000 [==============================] - 8s 311us/step\n",
      "loss = 0.3715154695415497\n",
      "正確率 = 0.85948\n"
     ]
    }
   ],
   "source": [
    "score = model.evaluate(x_test,y_test)\n",
    "print(\"loss =\",score[0])\n",
    "print(\"正確率 =\",score[1])"
   ]
  },
  {
   "cell_type": "markdown",
   "metadata": {},
   "source": [
    "### 選用不同激活函數試試看"
   ]
  },
  {
   "cell_type": "code",
   "execution_count": 14,
   "metadata": {},
   "outputs": [],
   "source": [
    "model = Sequential()\n",
    "model.add(Embedding(10000, N))\n",
    "model.add(Dropout(0.2))\n",
    "model.add(LSTM(K))\n",
    "model.add(Dense(1,activation='relu'))\n",
    "model.compile(loss='binary_crossentropy',optimizer='adam',metrics=['accuracy'])"
   ]
  },
  {
   "cell_type": "code",
   "execution_count": 15,
   "metadata": {},
   "outputs": [
    {
     "name": "stdout",
     "output_type": "stream",
     "text": [
      "_________________________________________________________________\n",
      "Layer (type)                 Output Shape              Param #   \n",
      "=================================================================\n",
      "embedding_2 (Embedding)      (None, None, 5)           50000     \n",
      "_________________________________________________________________\n",
      "dropout_2 (Dropout)          (None, None, 5)           0         \n",
      "_________________________________________________________________\n",
      "lstm_2 (LSTM)                (None, 6)                 288       \n",
      "_________________________________________________________________\n",
      "dense_2 (Dense)              (None, 1)                 7         \n",
      "=================================================================\n",
      "Total params: 50,295\n",
      "Trainable params: 50,295\n",
      "Non-trainable params: 0\n",
      "_________________________________________________________________\n"
     ]
    }
   ],
   "source": [
    "model.summary()"
   ]
  },
  {
   "cell_type": "code",
   "execution_count": 16,
   "metadata": {},
   "outputs": [
    {
     "name": "stdout",
     "output_type": "stream",
     "text": [
      "Epoch 1/5\n",
      "25000/25000 [==============================] - 51s 2ms/step - loss: 0.5852 - acc: 0.7339\n",
      "Epoch 2/5\n",
      "25000/25000 [==============================] - 53s 2ms/step - loss: 0.3648 - acc: 0.8599\n",
      "Epoch 3/5\n",
      "25000/25000 [==============================] - 51s 2ms/step - loss: 0.2737 - acc: 0.8988\n",
      "Epoch 4/5\n",
      "25000/25000 [==============================] - 50s 2ms/step - loss: 0.2482 - acc: 0.9109\n",
      "Epoch 5/5\n",
      "25000/25000 [==============================] - 52s 2ms/step - loss: 0.2242 - acc: 0.9212\n"
     ]
    },
    {
     "data": {
      "text/plain": [
       "<keras.callbacks.History at 0x272419e6e80>"
      ]
     },
     "execution_count": 16,
     "metadata": {},
     "output_type": "execute_result"
    }
   ],
   "source": [
    "model.fit(x_train,y_train,batch_size=32,epochs=5)"
   ]
  },
  {
   "cell_type": "code",
   "execution_count": 17,
   "metadata": {},
   "outputs": [
    {
     "name": "stdout",
     "output_type": "stream",
     "text": [
      "25000/25000 [==============================] - 8s 325us/step\n",
      "loss = 0.5552623738527298\n",
      "正確率 = 0.8502\n"
     ]
    }
   ],
   "source": [
    "score = model.evaluate(x_test,y_test)\n",
    "print(\"loss =\",score[0])\n",
    "print(\"正確率 =\",score[1])"
   ]
  },
  {
   "cell_type": "markdown",
   "metadata": {},
   "source": [
    "### 把激活函數從sigmoid到relu正確率反而下降(0.85948 --> 0.8502)\n",
    "### 提高N和K試試看"
   ]
  },
  {
   "cell_type": "code",
   "execution_count": 18,
   "metadata": {},
   "outputs": [],
   "source": [
    "N = 10 # 文字要壓到 N 維\n",
    "K = 12 # LSTM 有 K 個神經元"
   ]
  },
  {
   "cell_type": "code",
   "execution_count": 19,
   "metadata": {},
   "outputs": [],
   "source": [
    "model = Sequential()\n",
    "model.add(Embedding(10000, N))\n",
    "model.add(Dropout(0.2))\n",
    "model.add(LSTM(K))\n",
    "model.add(Dense(1,activation='sigmoid'))\n",
    "model.compile(loss='binary_crossentropy',optimizer='adam',metrics=['accuracy'])"
   ]
  },
  {
   "cell_type": "code",
   "execution_count": 20,
   "metadata": {},
   "outputs": [
    {
     "name": "stdout",
     "output_type": "stream",
     "text": [
      "_________________________________________________________________\n",
      "Layer (type)                 Output Shape              Param #   \n",
      "=================================================================\n",
      "embedding_3 (Embedding)      (None, None, 10)          100000    \n",
      "_________________________________________________________________\n",
      "dropout_3 (Dropout)          (None, None, 10)          0         \n",
      "_________________________________________________________________\n",
      "lstm_3 (LSTM)                (None, 12)                1104      \n",
      "_________________________________________________________________\n",
      "dense_3 (Dense)              (None, 1)                 13        \n",
      "=================================================================\n",
      "Total params: 101,117\n",
      "Trainable params: 101,117\n",
      "Non-trainable params: 0\n",
      "_________________________________________________________________\n"
     ]
    }
   ],
   "source": [
    "model.summary()"
   ]
  },
  {
   "cell_type": "code",
   "execution_count": 21,
   "metadata": {},
   "outputs": [
    {
     "name": "stdout",
     "output_type": "stream",
     "text": [
      "Epoch 1/5\n",
      "25000/25000 [==============================] - 56s 2ms/step - loss: 0.4613 - acc: 0.7827\n",
      "Epoch 2/5\n",
      "25000/25000 [==============================] - 53s 2ms/step - loss: 0.2704 - acc: 0.8918\n",
      "Epoch 3/5\n",
      "25000/25000 [==============================] - 53s 2ms/step - loss: 0.2117 - acc: 0.9201\n",
      "Epoch 4/5\n",
      "25000/25000 [==============================] - 54s 2ms/step - loss: 0.1816 - acc: 0.9332\n",
      "Epoch 5/5\n",
      "25000/25000 [==============================] - 53s 2ms/step - loss: 0.1548 - acc: 0.9461\n"
     ]
    },
    {
     "data": {
      "text/plain": [
       "<keras.callbacks.History at 0x272464b5780>"
      ]
     },
     "execution_count": 21,
     "metadata": {},
     "output_type": "execute_result"
    }
   ],
   "source": [
    "model.fit(x_train,y_train,batch_size=32,epochs=5)"
   ]
  },
  {
   "cell_type": "code",
   "execution_count": 22,
   "metadata": {},
   "outputs": [
    {
     "name": "stdout",
     "output_type": "stream",
     "text": [
      "25000/25000 [==============================] - 8s 339us/step\n",
      "loss = 0.4426144438457489\n",
      "正確率 = 0.85044\n"
     ]
    }
   ],
   "source": [
    "score = model.evaluate(x_test,y_test)\n",
    "print(\"loss =\",score[0])\n",
    "print(\"正確率 =\",score[1])"
   ]
  },
  {
   "cell_type": "markdown",
   "metadata": {},
   "source": [
    "### 提高N和K幾乎沒甚麼差\n",
    "### 修改模型，多一層dropout"
   ]
  },
  {
   "cell_type": "code",
   "execution_count": 23,
   "metadata": {},
   "outputs": [],
   "source": [
    "model = Sequential()\n",
    "model.add(Embedding(10000, N))\n",
    "model.add(Dropout(0.5))\n",
    "model.add(LSTM(K))\n",
    "model.add(Dropout(0.2))\n",
    "model.add(Dense(1,activation='sigmoid'))\n",
    "model.compile(loss='binary_crossentropy',optimizer='adam',metrics=['accuracy'])"
   ]
  },
  {
   "cell_type": "code",
   "execution_count": 24,
   "metadata": {},
   "outputs": [
    {
     "name": "stdout",
     "output_type": "stream",
     "text": [
      "_________________________________________________________________\n",
      "Layer (type)                 Output Shape              Param #   \n",
      "=================================================================\n",
      "embedding_4 (Embedding)      (None, None, 10)          100000    \n",
      "_________________________________________________________________\n",
      "dropout_4 (Dropout)          (None, None, 10)          0         \n",
      "_________________________________________________________________\n",
      "lstm_4 (LSTM)                (None, 12)                1104      \n",
      "_________________________________________________________________\n",
      "dropout_5 (Dropout)          (None, 12)                0         \n",
      "_________________________________________________________________\n",
      "dense_4 (Dense)              (None, 1)                 13        \n",
      "=================================================================\n",
      "Total params: 101,117\n",
      "Trainable params: 101,117\n",
      "Non-trainable params: 0\n",
      "_________________________________________________________________\n"
     ]
    }
   ],
   "source": [
    "model.summary()"
   ]
  },
  {
   "cell_type": "code",
   "execution_count": 25,
   "metadata": {},
   "outputs": [
    {
     "name": "stdout",
     "output_type": "stream",
     "text": [
      "Epoch 1/5\n",
      "25000/25000 [==============================] - 54s 2ms/step - loss: 0.5006 - acc: 0.7493\n",
      "Epoch 2/5\n",
      "25000/25000 [==============================] - 53s 2ms/step - loss: 0.3056 - acc: 0.8787\n",
      "Epoch 3/5\n",
      "25000/25000 [==============================] - 53s 2ms/step - loss: 0.2485 - acc: 0.9022\n",
      "Epoch 4/5\n",
      "25000/25000 [==============================] - 53s 2ms/step - loss: 0.2210 - acc: 0.9145\n",
      "Epoch 5/5\n",
      "25000/25000 [==============================] - 53s 2ms/step - loss: 0.1944 - acc: 0.9257\n"
     ]
    },
    {
     "data": {
      "text/plain": [
       "<keras.callbacks.History at 0x2724650ab38>"
      ]
     },
     "execution_count": 25,
     "metadata": {},
     "output_type": "execute_result"
    }
   ],
   "source": [
    "model.fit(x_train,y_train,batch_size=32,epochs=5)"
   ]
  },
  {
   "cell_type": "code",
   "execution_count": 26,
   "metadata": {},
   "outputs": [
    {
     "name": "stdout",
     "output_type": "stream",
     "text": [
      "25000/25000 [==============================] - 9s 359us/step\n",
      "loss = 0.32688348501205444\n",
      "正確率 = 0.86176\n"
     ]
    }
   ],
   "source": [
    "score = model.evaluate(x_test,y_test)\n",
    "print(\"loss =\",score[0])\n",
    "print(\"正確率 =\",score[1])"
   ]
  },
  {
   "cell_type": "markdown",
   "metadata": {},
   "source": [
    "### 最高正確率：0.86176"
   ]
  },
  {
   "cell_type": "code",
   "execution_count": 27,
   "metadata": {},
   "outputs": [],
   "source": [
    "N = 8 # 文字要壓到 N 維\n",
    "K = 24 # LSTM 有 K 個神經元"
   ]
  },
  {
   "cell_type": "code",
   "execution_count": 28,
   "metadata": {},
   "outputs": [],
   "source": [
    "model = Sequential()\n",
    "model.add(Embedding(10000, N))\n",
    "model.add(Dropout(0.2))\n",
    "model.add(LSTM(K))\n",
    "model.add(Dense(1,activation='sigmoid'))\n",
    "model.compile(loss='binary_crossentropy',optimizer='adam',metrics=['accuracy'])"
   ]
  },
  {
   "cell_type": "code",
   "execution_count": 29,
   "metadata": {},
   "outputs": [
    {
     "name": "stdout",
     "output_type": "stream",
     "text": [
      "_________________________________________________________________\n",
      "Layer (type)                 Output Shape              Param #   \n",
      "=================================================================\n",
      "embedding_5 (Embedding)      (None, None, 8)           80000     \n",
      "_________________________________________________________________\n",
      "dropout_6 (Dropout)          (None, None, 8)           0         \n",
      "_________________________________________________________________\n",
      "lstm_5 (LSTM)                (None, 24)                3168      \n",
      "_________________________________________________________________\n",
      "dense_5 (Dense)              (None, 1)                 25        \n",
      "=================================================================\n",
      "Total params: 83,193\n",
      "Trainable params: 83,193\n",
      "Non-trainable params: 0\n",
      "_________________________________________________________________\n"
     ]
    }
   ],
   "source": [
    "model.summary()"
   ]
  },
  {
   "cell_type": "code",
   "execution_count": 30,
   "metadata": {},
   "outputs": [
    {
     "name": "stdout",
     "output_type": "stream",
     "text": [
      "Epoch 1/5\n",
      "25000/25000 [==============================] - 55s 2ms/step - loss: 0.4412 - acc: 0.7810\n",
      "Epoch 2/5\n",
      "25000/25000 [==============================] - 54s 2ms/step - loss: 0.2619 - acc: 0.8959\n",
      "Epoch 3/5\n",
      "25000/25000 [==============================] - 56s 2ms/step - loss: 0.2156 - acc: 0.9178\n",
      "Epoch 4/5\n",
      "25000/25000 [==============================] - 54s 2ms/step - loss: 0.1859 - acc: 0.9296\n",
      "Epoch 5/5\n",
      "25000/25000 [==============================] - 54s 2ms/step - loss: 0.1636 - acc: 0.9402\n"
     ]
    },
    {
     "data": {
      "text/plain": [
       "<keras.callbacks.History at 0x2724aebd550>"
      ]
     },
     "execution_count": 30,
     "metadata": {},
     "output_type": "execute_result"
    }
   ],
   "source": [
    "model.fit(x_train,y_train,batch_size=32,epochs=5)"
   ]
  },
  {
   "cell_type": "code",
   "execution_count": 31,
   "metadata": {},
   "outputs": [
    {
     "name": "stdout",
     "output_type": "stream",
     "text": [
      "25000/25000 [==============================] - 9s 354us/step\n",
      "loss = 0.39215672469615936\n",
      "正確率 = 0.85508\n"
     ]
    }
   ],
   "source": [
    "score = model.evaluate(x_test,y_test)\n",
    "print(\"loss =\",score[0])\n",
    "print(\"正確率 =\",score[1])"
   ]
  },
  {
   "cell_type": "code",
   "execution_count": 32,
   "metadata": {},
   "outputs": [],
   "source": [
    "N = 30 # 文字要壓到 N 維\n",
    "K = 24 # LSTM 有 K 個神經元"
   ]
  },
  {
   "cell_type": "code",
   "execution_count": 41,
   "metadata": {},
   "outputs": [],
   "source": [
    "model = Sequential()\n",
    "model.add(Embedding(10000, N))\n",
    "model.add(Dropout(0.5))\n",
    "model.add(LSTM(K))\n",
    "model.add(Dropout(0.3))\n",
    "model.add(Dense(1,activation='sigmoid'))\n",
    "model.compile(loss='binary_crossentropy',optimizer='adam',metrics=['accuracy'])"
   ]
  },
  {
   "cell_type": "code",
   "execution_count": 42,
   "metadata": {},
   "outputs": [
    {
     "name": "stdout",
     "output_type": "stream",
     "text": [
      "_________________________________________________________________\n",
      "Layer (type)                 Output Shape              Param #   \n",
      "=================================================================\n",
      "embedding_8 (Embedding)      (None, None, 30)          300000    \n",
      "_________________________________________________________________\n",
      "dropout_10 (Dropout)         (None, None, 30)          0         \n",
      "_________________________________________________________________\n",
      "lstm_8 (LSTM)                (None, 24)                5280      \n",
      "_________________________________________________________________\n",
      "dropout_11 (Dropout)         (None, 24)                0         \n",
      "_________________________________________________________________\n",
      "dense_8 (Dense)              (None, 1)                 25        \n",
      "=================================================================\n",
      "Total params: 305,305\n",
      "Trainable params: 305,305\n",
      "Non-trainable params: 0\n",
      "_________________________________________________________________\n"
     ]
    }
   ],
   "source": [
    "model.summary()"
   ]
  },
  {
   "cell_type": "code",
   "execution_count": 43,
   "metadata": {},
   "outputs": [
    {
     "name": "stdout",
     "output_type": "stream",
     "text": [
      "Epoch 1/5\n",
      "25000/25000 [==============================] - 62s 2ms/step - loss: 0.4201 - acc: 0.7986\n",
      "Epoch 2/5\n",
      "25000/25000 [==============================] - 61s 2ms/step - loss: 0.2620 - acc: 0.8965: 1s - loss: 0.2617\n",
      "Epoch 3/5\n",
      "25000/25000 [==============================] - 61s 2ms/step - loss: 0.2137 - acc: 0.9188\n",
      "Epoch 4/5\n",
      "25000/25000 [==============================] - 61s 2ms/step - loss: 0.1862 - acc: 0.9303\n",
      "Epoch 5/5\n",
      "25000/25000 [==============================] - 62s 2ms/step - loss: 0.1649 - acc: 0.9373\n"
     ]
    },
    {
     "data": {
      "text/plain": [
       "<keras.callbacks.History at 0x27250728e48>"
      ]
     },
     "execution_count": 43,
     "metadata": {},
     "output_type": "execute_result"
    }
   ],
   "source": [
    "model.fit(x_train,y_train,batch_size=32,epochs=5)"
   ]
  },
  {
   "cell_type": "code",
   "execution_count": 44,
   "metadata": {},
   "outputs": [
    {
     "name": "stdout",
     "output_type": "stream",
     "text": [
      "25000/25000 [==============================] - 11s 442us/step\n",
      "loss = 0.4149082957267761\n",
      "正確率 = 0.85716\n"
     ]
    }
   ],
   "source": [
    "score = model.evaluate(x_test,y_test)\n",
    "print(\"loss =\",score[0])\n",
    "print(\"正確率 =\",score[1])"
   ]
  },
  {
   "cell_type": "markdown",
   "metadata": {},
   "source": [
    "### 最高正確率：0.86176"
   ]
  },
  {
   "cell_type": "code",
   "execution_count": null,
   "metadata": {},
   "outputs": [],
   "source": []
  }
 ],
 "metadata": {
  "kernelspec": {
   "display_name": "Python 3",
   "language": "python",
   "name": "python3"
  },
  "language_info": {
   "codemirror_mode": {
    "name": "ipython",
    "version": 3
   },
   "file_extension": ".py",
   "mimetype": "text/x-python",
   "name": "python",
   "nbconvert_exporter": "python",
   "pygments_lexer": "ipython3",
   "version": "3.6.6"
  }
 },
 "nbformat": 4,
 "nbformat_minor": 2
}

{
 "cells": [
  {
   "cell_type": "markdown",
   "metadata": {},
   "source": [
    "## 動機：\n",
    "### 有在用Instagram的同學們應該知道裡面有個珍藏的功能，我有存了一個資料夾是想要去玩的地方，但越存越多就變得很亂，想出去玩的時候就懶得再去裡面找，在珍藏的貼文裡面選了幾個最近還是想去的地方，整理成Excel表格存成csv檔，再用Notepad++轉換至UTF-8碼格式，想用選單的方式做篩選，可以選擇地區、縣市或是想做的活動，按下確認送出的按鈕後會顯示出符合選擇的地點"
   ]
  },
  {
   "cell_type": "markdown",
   "metadata": {},
   "source": [
    "### 根據維基百科劃分地理區域：https://zh.wikipedia.org/wiki/%E5%8F%B0%E7%81%A3%E5%9C%B0%E7%90%86\n",
    "#### 北台灣：臺北市、新北市、基隆市、桃園市、新竹市、新竹縣、宜蘭縣\n",
    "#### 中台灣：苗栗縣、臺中市、彰化縣、南投縣、雲林縣\n",
    "#### 南台灣：嘉義市、嘉義縣、臺南市、高雄市、屏東縣、澎湖縣\n",
    "#### 東台灣：花蓮縣、臺東縣"
   ]
  },
  {
   "cell_type": "code",
   "execution_count": 6,
   "metadata": {},
   "outputs": [],
   "source": [
    "%matplotlib inline\n",
    "\n",
    "import numpy as np\n",
    "import matplotlib.pyplot as plt\n",
    "import pandas as pd\n",
    "import ipywidgets as widgets"
   ]
  },
  {
   "cell_type": "code",
   "execution_count": 7,
   "metadata": {},
   "outputs": [],
   "source": [
    "df = pd.read_csv('travel.csv')"
   ]
  },
  {
   "cell_type": "code",
   "execution_count": 8,
   "metadata": {},
   "outputs": [
    {
     "data": {
      "text/html": [
       "<div>\n",
       "<style scoped>\n",
       "    .dataframe tbody tr th:only-of-type {\n",
       "        vertical-align: middle;\n",
       "    }\n",
       "\n",
       "    .dataframe tbody tr th {\n",
       "        vertical-align: top;\n",
       "    }\n",
       "\n",
       "    .dataframe thead th {\n",
       "        text-align: right;\n",
       "    }\n",
       "</style>\n",
       "<table border=\"1\" class=\"dataframe\">\n",
       "  <thead>\n",
       "    <tr style=\"text-align: right;\">\n",
       "      <th></th>\n",
       "      <th>地區</th>\n",
       "      <th>縣市</th>\n",
       "      <th>名稱</th>\n",
       "      <th>關鍵字</th>\n",
       "      <th>地址</th>\n",
       "    </tr>\n",
       "  </thead>\n",
       "  <tbody>\n",
       "    <tr>\n",
       "      <th>0</th>\n",
       "      <td>北部</td>\n",
       "      <td>台北</td>\n",
       "      <td>北投溫泉</td>\n",
       "      <td>溫泉</td>\n",
       "      <td>台北市北投區</td>\n",
       "    </tr>\n",
       "    <tr>\n",
       "      <th>1</th>\n",
       "      <td>北部</td>\n",
       "      <td>台北</td>\n",
       "      <td>擎天崗</td>\n",
       "      <td>爬山</td>\n",
       "      <td>台北市士林區菁山路101巷246號</td>\n",
       "    </tr>\n",
       "    <tr>\n",
       "      <th>2</th>\n",
       "      <td>北部</td>\n",
       "      <td>新北</td>\n",
       "      <td>茶壺山步道</td>\n",
       "      <td>爬山</td>\n",
       "      <td>新北市瑞芳區祈堂路53號</td>\n",
       "    </tr>\n",
       "    <tr>\n",
       "      <th>3</th>\n",
       "      <td>北部</td>\n",
       "      <td>新北</td>\n",
       "      <td>象鼻岩</td>\n",
       "      <td>爬山</td>\n",
       "      <td>新北市瑞芳區</td>\n",
       "    </tr>\n",
       "    <tr>\n",
       "      <th>4</th>\n",
       "      <td>北部</td>\n",
       "      <td>新竹</td>\n",
       "      <td>英桃的天闊營地</td>\n",
       "      <td>露營</td>\n",
       "      <td>新竹縣五峰鄉梅山山頂</td>\n",
       "    </tr>\n",
       "  </tbody>\n",
       "</table>\n",
       "</div>"
      ],
      "text/plain": [
       "   地區  縣市       名稱 關鍵字                 地址\n",
       "0  北部  台北     北投溫泉  溫泉             台北市北投區\n",
       "1  北部  台北      擎天崗  爬山  台北市士林區菁山路101巷246號\n",
       "2  北部  新北    茶壺山步道  爬山       新北市瑞芳區祈堂路53號\n",
       "3  北部  新北      象鼻岩  爬山             新北市瑞芳區\n",
       "4  北部  新竹  英桃的天闊營地  露營         新竹縣五峰鄉梅山山頂"
      ]
     },
     "execution_count": 8,
     "metadata": {},
     "output_type": "execute_result"
    }
   ],
   "source": [
    "df.head()"
   ]
  },
  {
   "cell_type": "code",
   "execution_count": 9,
   "metadata": {
    "scrolled": true
   },
   "outputs": [],
   "source": [
    "area = widgets.Dropdown(\n",
    "    options=['北部', '中部', '南部','東部', '都可以'],\n",
    "    value='北部',\n",
    "    description='地區：',\n",
    "    )\n",
    "city = widgets.Dropdown(\n",
    "    options = ['基隆','台北','新北','桃園','新竹','宜蘭','苗栗','台中','彰化','南投','雲林','嘉義','台南','高雄','屏東','花蓮','台東','都可以'],\n",
    "    value = '基隆',\n",
    "    description='縣市：'\n",
    "    )\n",
    "eggs = widgets.Dropdown(\n",
    "    options = ['海邊','爬山','露營','騎腳踏車','溫泉','都可以'],\n",
    "    value = '海邊',\n",
    "    description = '種類：'\n",
    "    )\n",
    "\n",
    "button = widgets.Button(description='確定送出')"
   ]
  },
  {
   "cell_type": "code",
   "execution_count": 10,
   "metadata": {
    "scrolled": true
   },
   "outputs": [
    {
     "name": "stdout",
     "output_type": "stream",
     "text": [
      "請選擇：\n"
     ]
    },
    {
     "data": {
      "application/vnd.jupyter.widget-view+json": {
       "model_id": "d41df78f72ed4a55a3d4a0fcc9d17d02",
       "version_major": 2,
       "version_minor": 0
      },
      "text/plain": [
       "Dropdown(description='地區：', options=('北部', '中部', '南部', '東部', '都可以'), value='北部')"
      ]
     },
     "metadata": {},
     "output_type": "display_data"
    },
    {
     "data": {
      "application/vnd.jupyter.widget-view+json": {
       "model_id": "6d049bd4eb094997b574dc606019209f",
       "version_major": 2,
       "version_minor": 0
      },
      "text/plain": [
       "Dropdown(description='縣市：', options=('基隆', '台北', '新北', '桃園', '新竹', '宜蘭', '苗栗', '台中', '彰化', '南投', '雲林', '嘉義', '…"
      ]
     },
     "metadata": {},
     "output_type": "display_data"
    },
    {
     "data": {
      "application/vnd.jupyter.widget-view+json": {
       "model_id": "eaae3b813ea64f01911e9cee8e98ceec",
       "version_major": 2,
       "version_minor": 0
      },
      "text/plain": [
       "Dropdown(description='種類：', options=('海邊', '爬山', '露營', '騎腳踏車', '溫泉', '都可以'), value='海邊')"
      ]
     },
     "metadata": {},
     "output_type": "display_data"
    },
    {
     "data": {
      "application/vnd.jupyter.widget-view+json": {
       "model_id": "549d3cd3013c4f29a0ce28b43cc37547",
       "version_major": 2,
       "version_minor": 0
      },
      "text/plain": [
       "Button(description='確定送出', style=ButtonStyle())"
      ]
     },
     "metadata": {},
     "output_type": "display_data"
    },
    {
     "name": "stdout",
     "output_type": "stream",
     "text": [
      "   地區  縣市     名稱                 地址\n",
      "1  北部  台北    擎天崗  台北市士林區菁山路101巷246號\n",
      "2  北部  新北  茶壺山步道       新北市瑞芳區祈堂路53號\n",
      "3  北部  新北    象鼻岩             新北市瑞芳區\n",
      "8  北部  台北  內湖剪刀石        台北市內湖區環山路二段\n"
     ]
    }
   ],
   "source": [
    "print('請選擇：')\n",
    "display(area)\n",
    "display(city)\n",
    "display(eggs)\n",
    "display(button)\n",
    "\n",
    "def travel_clicked(self):\n",
    "    if area.value != '都可以':\n",
    "        df2 = df[(df['地區'] == area.value)]\n",
    "        if city.value != '都可以':\n",
    "            df3 = df2[(df2['縣市'] == city.value)]\n",
    "            if eggs.value != '都可以':\n",
    "                df4 = df3[(df3['關鍵字'] == eggs.value)]\n",
    "            else:\n",
    "                df4 = df3                \n",
    "        else:\n",
    "            df3 = df2\n",
    "            if eggs.value != '都可以':\n",
    "                df4 = df3[(df3['關鍵字'] == eggs.value)]\n",
    "    else:\n",
    "        df2 = df\n",
    "        if city.value != '都可以':\n",
    "            df3 = df2[(df2['縣市'] == city.value)]\n",
    "            if eggs.value != '都可以':\n",
    "                df4 = df3[(df3['關鍵字'] == eggs.value)]                   \n",
    "        else:\n",
    "            df3 = df2\n",
    "            if eggs.value != '都可以':\n",
    "                df4 = df3[(df3['關鍵字'] == eggs.value)]      \n",
    "            else:\n",
    "                df4 = df3\n",
    "    df5=df4.drop(columns=['關鍵字'])\n",
    "    print(df5)\n",
    "    \n",
    "button.on_click(travel_clicked)"
   ]
  }
 ],
 "metadata": {
  "kernelspec": {
   "display_name": "Python 3",
   "language": "python",
   "name": "python3"
  },
  "language_info": {
   "codemirror_mode": {
    "name": "ipython",
    "version": 3
   },
   "file_extension": ".py",
   "mimetype": "text/x-python",
   "name": "python",
   "nbconvert_exporter": "python",
   "pygments_lexer": "ipython3",
   "version": "3.7.1"
  }
 },
 "nbformat": 4,
 "nbformat_minor": 2
}

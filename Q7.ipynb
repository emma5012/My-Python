{
 "cells": [
  {
   "cell_type": "code",
   "execution_count": 11,
   "metadata": {},
   "outputs": [],
   "source": [
    "%matplotlib inline\n",
    "import numpy as np\n",
    "import matplotlib.pyplot as plt\n",
    "\n",
    "import tensorflow as tf\n",
    "from keras.datasets import mnist\n",
    "from keras.utils import np_utils\n",
    "from keras.models import Sequential\n",
    "from keras.layers import Dense, Activation\n",
    "from keras.optimizers import SGD"
   ]
  },
  {
   "cell_type": "code",
   "execution_count": 12,
   "metadata": {},
   "outputs": [],
   "source": [
    "(x_train, y_train), (x_test, y_test) = mnist.load_data()"
   ]
  },
  {
   "cell_type": "markdown",
   "metadata": {},
   "source": [
    "### 資料預處理"
   ]
  },
  {
   "cell_type": "code",
   "execution_count": 13,
   "metadata": {},
   "outputs": [],
   "source": [
    "# 壓成一維向量\n",
    "x_train = x_train.reshape(60000,784)\n",
    "x_test = x_test.reshape(10000,784)\n",
    "\n",
    "# 正規化\n",
    "x_train_1 = x_train / x_train.max()\n",
    "x_test_1 = x_test / x_test.max()\n",
    "\n",
    "# 1-hot enconding\n",
    "y_train = np_utils.to_categorical(y_train, 10)\n",
    "y_test = np_utils.to_categorical(y_test, 10)"
   ]
  },
  {
   "cell_type": "markdown",
   "metadata": {},
   "source": [
    "### 建立模型"
   ]
  },
  {
   "cell_type": "code",
   "execution_count": 23,
   "metadata": {},
   "outputs": [
    {
     "name": "stdout",
     "output_type": "stream",
     "text": [
      "_________________________________________________________________\n",
      "Layer (type)                 Output Shape              Param #   \n",
      "=================================================================\n",
      "dense_29 (Dense)             (None, 10)                7850      \n",
      "_________________________________________________________________\n",
      "activation_29 (Activation)   (None, 10)                0         \n",
      "_________________________________________________________________\n",
      "dense_30 (Dense)             (None, 8)                 88        \n",
      "_________________________________________________________________\n",
      "activation_30 (Activation)   (None, 8)                 0         \n",
      "_________________________________________________________________\n",
      "dense_31 (Dense)             (None, 6)                 54        \n",
      "_________________________________________________________________\n",
      "activation_31 (Activation)   (None, 6)                 0         \n",
      "_________________________________________________________________\n",
      "dense_32 (Dense)             (None, 4)                 28        \n",
      "_________________________________________________________________\n",
      "activation_32 (Activation)   (None, 4)                 0         \n",
      "_________________________________________________________________\n",
      "dense_33 (Dense)             (None, 5)                 25        \n",
      "_________________________________________________________________\n",
      "activation_33 (Activation)   (None, 5)                 0         \n",
      "_________________________________________________________________\n",
      "dense_34 (Dense)             (None, 6)                 36        \n",
      "_________________________________________________________________\n",
      "activation_34 (Activation)   (None, 6)                 0         \n",
      "_________________________________________________________________\n",
      "dense_35 (Dense)             (None, 10)                70        \n",
      "_________________________________________________________________\n",
      "activation_35 (Activation)   (None, 10)                0         \n",
      "=================================================================\n",
      "Total params: 8,151\n",
      "Trainable params: 8,151\n",
      "Non-trainable params: 0\n",
      "_________________________________________________________________\n"
     ]
    }
   ],
   "source": [
    "model = Sequential()\n",
    "\n",
    "model.add(Dense(10, input_dim = 784))\n",
    "model.add(Activation('relu'))\n",
    "model.add(Dense(8))\n",
    "model.add(Activation('relu'))\n",
    "model.add(Dense(6))\n",
    "model.add(Activation('relu'))\n",
    "model.add(Dense(4))\n",
    "model.add(Activation('relu'))\n",
    "model.add(Dense(5))\n",
    "model.add(Activation('relu'))\n",
    "model.add(Dense(6))\n",
    "model.add(Activation('relu'))\n",
    "model.add(Dense(10))\n",
    "model.add(Activation('softmax'))\n",
    "\n",
    "model.compile(loss='mse', optimizer='Adam',metrics=['accuracy'])\n",
    "\n",
    "model.summary()"
   ]
  },
  {
   "cell_type": "markdown",
   "metadata": {},
   "source": [
    "### 開始訓練"
   ]
  },
  {
   "cell_type": "code",
   "execution_count": 24,
   "metadata": {},
   "outputs": [
    {
     "name": "stdout",
     "output_type": "stream",
     "text": [
      "Epoch 1/80\n",
      "60000/60000 [==============================] - 2s 37us/step - loss: 0.0712 - acc: 0.3340\n",
      "Epoch 2/80\n",
      "60000/60000 [==============================] - 4s 60us/step - loss: 0.0387 - acc: 0.7550: 1s - loss: 0.0421 \n",
      "Epoch 3/80\n",
      "60000/60000 [==============================] - 2s 38us/step - loss: 0.0241 - acc: 0.8493\n",
      "Epoch 4/80\n",
      "60000/60000 [==============================] - 2s 32us/step - loss: 0.0206 - acc: 0.8711\n",
      "Epoch 5/80\n",
      "60000/60000 [==============================] - 2s 41us/step - loss: 0.0191 - acc: 0.8808\n",
      "Epoch 6/80\n",
      "60000/60000 [==============================] - 2s 38us/step - loss: 0.0181 - acc: 0.8869\n",
      "Epoch 7/80\n",
      "60000/60000 [==============================] - 3s 42us/step - loss: 0.0174 - acc: 0.8904\n",
      "Epoch 8/80\n",
      "60000/60000 [==============================] - 2s 40us/step - loss: 0.0169 - acc: 0.8948\n",
      "Epoch 9/80\n",
      "60000/60000 [==============================] - 2s 39us/step - loss: 0.0163 - acc: 0.8986\n",
      "Epoch 10/80\n",
      "60000/60000 [==============================] - 2s 34us/step - loss: 0.0160 - acc: 0.9011\n",
      "Epoch 11/80\n",
      "60000/60000 [==============================] - 2s 35us/step - loss: 0.0156 - acc: 0.9041\n",
      "Epoch 12/80\n",
      "60000/60000 [==============================] - 2s 35us/step - loss: 0.0153 - acc: 0.9057\n",
      "Epoch 13/80\n",
      "60000/60000 [==============================] - 2s 36us/step - loss: 0.0149 - acc: 0.9079\n",
      "Epoch 14/80\n",
      "60000/60000 [==============================] - 2s 34us/step - loss: 0.0145 - acc: 0.9097\n",
      "Epoch 15/80\n",
      "60000/60000 [==============================] - 2s 36us/step - loss: 0.0141 - acc: 0.9129\n",
      "Epoch 16/80\n",
      "60000/60000 [==============================] - 2s 35us/step - loss: 0.0140 - acc: 0.9133\n",
      "Epoch 17/80\n",
      "60000/60000 [==============================] - 2s 36us/step - loss: 0.0139 - acc: 0.9144\n",
      "Epoch 18/80\n",
      "60000/60000 [==============================] - 2s 34us/step - loss: 0.0136 - acc: 0.9160\n",
      "Epoch 19/80\n",
      "60000/60000 [==============================] - 2s 36us/step - loss: 0.0134 - acc: 0.9171\n",
      "Epoch 20/80\n",
      "60000/60000 [==============================] - 2s 37us/step - loss: 0.0132 - acc: 0.9183\n",
      "Epoch 21/80\n",
      "60000/60000 [==============================] - 2s 36us/step - loss: 0.0131 - acc: 0.9201\n",
      "Epoch 22/80\n",
      "60000/60000 [==============================] - 2s 36us/step - loss: 0.0129 - acc: 0.9203\n",
      "Epoch 23/80\n",
      "60000/60000 [==============================] - 2s 35us/step - loss: 0.0127 - acc: 0.9215\n",
      "Epoch 24/80\n",
      "60000/60000 [==============================] - 2s 36us/step - loss: 0.0125 - acc: 0.9231\n",
      "Epoch 25/80\n",
      "60000/60000 [==============================] - 2s 33us/step - loss: 0.0124 - acc: 0.9227\n",
      "Epoch 26/80\n",
      "60000/60000 [==============================] - 2s 35us/step - loss: 0.0123 - acc: 0.9239\n",
      "Epoch 27/80\n",
      "60000/60000 [==============================] - 2s 35us/step - loss: 0.0122 - acc: 0.9247\n",
      "Epoch 28/80\n",
      "60000/60000 [==============================] - 2s 32us/step - loss: 0.0121 - acc: 0.9247\n",
      "Epoch 29/80\n",
      "60000/60000 [==============================] - 2s 35us/step - loss: 0.0119 - acc: 0.9262\n",
      "Epoch 30/80\n",
      "60000/60000 [==============================] - 2s 33us/step - loss: 0.0118 - acc: 0.9271\n",
      "Epoch 31/80\n",
      "60000/60000 [==============================] - 2s 33us/step - loss: 0.0118 - acc: 0.9271\n",
      "Epoch 32/80\n",
      "60000/60000 [==============================] - 2s 34us/step - loss: 0.0115 - acc: 0.9293\n",
      "Epoch 33/80\n",
      "60000/60000 [==============================] - 2s 32us/step - loss: 0.0115 - acc: 0.9295\n",
      "Epoch 34/80\n",
      "60000/60000 [==============================] - 2s 32us/step - loss: 0.0113 - acc: 0.9300\n",
      "Epoch 35/80\n",
      "60000/60000 [==============================] - 2s 32us/step - loss: 0.0114 - acc: 0.9300\n",
      "Epoch 36/80\n",
      "60000/60000 [==============================] - 2s 32us/step - loss: 0.0112 - acc: 0.9303\n",
      "Epoch 37/80\n",
      "60000/60000 [==============================] - 2s 32us/step - loss: 0.0111 - acc: 0.9316\n",
      "Epoch 38/80\n",
      "60000/60000 [==============================] - 2s 31us/step - loss: 0.0111 - acc: 0.9311\n",
      "Epoch 39/80\n",
      "60000/60000 [==============================] - 2s 32us/step - loss: 0.0111 - acc: 0.9315\n",
      "Epoch 40/80\n",
      "60000/60000 [==============================] - 2s 32us/step - loss: 0.0109 - acc: 0.9326\n",
      "Epoch 41/80\n",
      "60000/60000 [==============================] - 2s 32us/step - loss: 0.0109 - acc: 0.9332\n",
      "Epoch 42/80\n",
      "60000/60000 [==============================] - 2s 32us/step - loss: 0.0109 - acc: 0.9335\n",
      "Epoch 43/80\n",
      "60000/60000 [==============================] - 2s 33us/step - loss: 0.0108 - acc: 0.9339\n",
      "Epoch 44/80\n",
      "60000/60000 [==============================] - 2s 26us/step - loss: 0.0106 - acc: 0.9348\n",
      "Epoch 45/80\n",
      "60000/60000 [==============================] - 1s 25us/step - loss: 0.0107 - acc: 0.9337\n",
      "Epoch 46/80\n",
      "60000/60000 [==============================] - 2s 28us/step - loss: 0.0106 - acc: 0.9347\n",
      "Epoch 47/80\n",
      "60000/60000 [==============================] - 2s 26us/step - loss: 0.0106 - acc: 0.9347\n",
      "Epoch 48/80\n",
      "60000/60000 [==============================] - 1s 25us/step - loss: 0.0105 - acc: 0.9355\n",
      "Epoch 49/80\n",
      "60000/60000 [==============================] - 1s 24us/step - loss: 0.0105 - acc: 0.9353\n",
      "Epoch 50/80\n",
      "60000/60000 [==============================] - 1s 24us/step - loss: 0.0104 - acc: 0.9362\n",
      "Epoch 51/80\n",
      "60000/60000 [==============================] - 1s 23us/step - loss: 0.0103 - acc: 0.9361\n",
      "Epoch 52/80\n",
      "60000/60000 [==============================] - 1s 23us/step - loss: 0.0104 - acc: 0.9359\n",
      "Epoch 53/80\n",
      "60000/60000 [==============================] - 1s 23us/step - loss: 0.0102 - acc: 0.9373\n",
      "Epoch 54/80\n",
      "60000/60000 [==============================] - 1s 23us/step - loss: 0.0102 - acc: 0.9377\n",
      "Epoch 55/80\n",
      "60000/60000 [==============================] - 1s 23us/step - loss: 0.0103 - acc: 0.9368\n",
      "Epoch 56/80\n",
      "60000/60000 [==============================] - 2s 27us/step - loss: 0.0101 - acc: 0.9377\n",
      "Epoch 57/80\n",
      "60000/60000 [==============================] - 1s 25us/step - loss: 0.0099 - acc: 0.9389\n",
      "Epoch 58/80\n",
      "60000/60000 [==============================] - 1s 24us/step - loss: 0.0099 - acc: 0.9387\n",
      "Epoch 59/80\n",
      "60000/60000 [==============================] - 2s 26us/step - loss: 0.0100 - acc: 0.9382\n",
      "Epoch 60/80\n",
      "60000/60000 [==============================] - 1s 24us/step - loss: 0.0099 - acc: 0.9389\n",
      "Epoch 61/80\n",
      "60000/60000 [==============================] - 1s 22us/step - loss: 0.0099 - acc: 0.9396\n",
      "Epoch 62/80\n",
      "60000/60000 [==============================] - 1s 23us/step - loss: 0.0100 - acc: 0.9382\n",
      "Epoch 63/80\n",
      "60000/60000 [==============================] - 1s 25us/step - loss: 0.0098 - acc: 0.9395\n",
      "Epoch 64/80\n",
      "60000/60000 [==============================] - 2s 25us/step - loss: 0.0098 - acc: 0.9392\n",
      "Epoch 65/80\n",
      "60000/60000 [==============================] - 2s 26us/step - loss: 0.0097 - acc: 0.9406\n",
      "Epoch 66/80\n",
      "60000/60000 [==============================] - 2s 26us/step - loss: 0.0097 - acc: 0.9403\n",
      "Epoch 67/80\n",
      "60000/60000 [==============================] - 1s 25us/step - loss: 0.0097 - acc: 0.9402\n",
      "Epoch 68/80\n",
      "60000/60000 [==============================] - 2s 29us/step - loss: 0.0096 - acc: 0.9407: \n",
      "Epoch 69/80\n",
      "60000/60000 [==============================] - 2s 26us/step - loss: 0.0095 - acc: 0.9411\n",
      "Epoch 70/80\n",
      "60000/60000 [==============================] - 2s 28us/step - loss: 0.0095 - acc: 0.9415\n",
      "Epoch 71/80\n",
      "60000/60000 [==============================] - 1s 20us/step - loss: 0.0095 - acc: 0.9421\n",
      "Epoch 72/80\n",
      "60000/60000 [==============================] - 1s 21us/step - loss: 0.0095 - acc: 0.9420\n",
      "Epoch 73/80\n",
      "60000/60000 [==============================] - 1s 20us/step - loss: 0.0095 - acc: 0.9419\n",
      "Epoch 74/80\n",
      "60000/60000 [==============================] - 1s 20us/step - loss: 0.0094 - acc: 0.9424\n",
      "Epoch 75/80\n",
      "60000/60000 [==============================] - 1s 23us/step - loss: 0.0094 - acc: 0.9418\n",
      "Epoch 76/80\n",
      "60000/60000 [==============================] - 1s 23us/step - loss: 0.0095 - acc: 0.9414\n",
      "Epoch 77/80\n",
      "60000/60000 [==============================] - 1s 23us/step - loss: 0.0093 - acc: 0.9429\n",
      "Epoch 78/80\n",
      "60000/60000 [==============================] - 2s 26us/step - loss: 0.0093 - acc: 0.9431\n",
      "Epoch 79/80\n",
      "60000/60000 [==============================] - 2s 27us/step - loss: 0.0093 - acc: 0.9426\n",
      "Epoch 80/80\n",
      "60000/60000 [==============================] - 1s 24us/step - loss: 0.0093 - acc: 0.9430\n"
     ]
    },
    {
     "data": {
      "text/plain": [
       "<keras.callbacks.History at 0x1a02a798978>"
      ]
     },
     "execution_count": 24,
     "metadata": {},
     "output_type": "execute_result"
    }
   ],
   "source": [
    "model.fit(x_train_1,y_train,batch_size=100, epochs = 80)"
   ]
  },
  {
   "cell_type": "code",
   "execution_count": 25,
   "metadata": {},
   "outputs": [
    {
     "name": "stdout",
     "output_type": "stream",
     "text": [
      "10000/10000 [==============================] - 0s 38us/step\n",
      "loss:  0.0123107297425\n",
      "acc:  0.924\n"
     ]
    }
   ],
   "source": [
    "score = model.evaluate(x_test_1,y_test)\n",
    "print('loss: ',score[0])\n",
    "print('acc: ', score[1])"
   ]
  },
  {
   "cell_type": "markdown",
   "metadata": {},
   "source": [
    "### 小互動"
   ]
  },
  {
   "cell_type": "code",
   "execution_count": 26,
   "metadata": {},
   "outputs": [],
   "source": [
    "from ipywidgets import interact_manual"
   ]
  },
  {
   "cell_type": "code",
   "execution_count": 27,
   "metadata": {},
   "outputs": [],
   "source": [
    "predict = model.predict_classes(x_test)\n",
    "def test(測試編號):\n",
    "    plt.imshow(x_test_1[測試編號].reshape(28,28), cmap = 'Greys')\n",
    "    print('神經網路判斷為：',predict[測試編號])"
   ]
  },
  {
   "cell_type": "code",
   "execution_count": 28,
   "metadata": {},
   "outputs": [
    {
     "name": "stdout",
     "output_type": "stream",
     "text": [
      "神經網路判斷為： 6\n"
     ]
    },
    {
     "data": {
      "image/png": "[encoded data removed]",
      "text/plain": [
       "<Figure size 432x288 with 1 Axes>"
      ]
     },
     "metadata": {
      "needs_background": "light"
     },
     "output_type": "display_data"
    }
   ],
   "source": [
    "test(5012)"
   ]
  },
  {
   "cell_type": "code",
   "execution_count": 29,
   "metadata": {},
   "outputs": [
    {
     "data": {
      "application/vnd.jupyter.widget-view+json": {
       "model_id": "aa4d8ac7cab042908a2c6ffa283274c5",
       "version_major": 2,
       "version_minor": 0
      },
      "text/plain": [
       "interactive(children=(IntSlider(value=4999, description='測試編號', max=9999), Button(description='Run Interact', …"
      ]
     },
     "metadata": {},
     "output_type": "display_data"
    },
    {
     "data": {
      "text/plain": [
       "<function __main__.test(測試編號)>"
      ]
     },
     "execution_count": 29,
     "metadata": {},
     "output_type": "execute_result"
    }
   ],
   "source": [
    "interact_manual(test,測試編號=(0,9999))"
   ]
  },
  {
   "cell_type": "code",
   "execution_count": null,
   "metadata": {},
   "outputs": [],
   "source": []
  }
 ],
 "metadata": {
  "kernelspec": {
   "display_name": "Python 3",
   "language": "python",
   "name": "python3"
  },
  "language_info": {
   "codemirror_mode": {
    "name": "ipython",
    "version": 3
   },
   "file_extension": ".py",
   "mimetype": "text/x-python",
   "name": "python",
   "nbconvert_exporter": "python",
   "pygments_lexer": "ipython3",
   "version": "3.6.6"
  }
 },
 "nbformat": 4,
 "nbformat_minor": 2
}
